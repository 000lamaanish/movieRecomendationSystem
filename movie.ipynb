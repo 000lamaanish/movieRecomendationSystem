{
 "cells": [
  {
   "cell_type": "code",
   "execution_count": 60,
   "id": "92756792-4034-47b5-96ea-d382345ede61",
   "metadata": {},
   "outputs": [],
   "source": [
    "import numpy as np\n",
    "import pandas as pd\n",
    "import ast\n",
    "import sklearn as scikit_learn\n",
    "import nltk"
   ]
  },
  {
   "cell_type": "code",
   "execution_count": 59,
   "id": "639e1380-2533-4f8f-964c-bfe7d837fe05",
   "metadata": {},
   "outputs": [
    {
     "name": "stdout",
     "output_type": "stream",
     "text": [
      "Requirement already satisfied: nltk in c:\\users\\dell\\appdata\\local\\programs\\python\\python311\\lib\\site-packages (3.9.1)\n",
      "Requirement already satisfied: click in c:\\users\\dell\\appdata\\local\\programs\\python\\python311\\lib\\site-packages (from nltk) (8.1.7)\n",
      "Requirement already satisfied: joblib in c:\\users\\dell\\appdata\\local\\programs\\python\\python311\\lib\\site-packages (from nltk) (1.3.2)\n",
      "Requirement already satisfied: regex>=2021.8.3 in c:\\users\\dell\\appdata\\local\\programs\\python\\python311\\lib\\site-packages (from nltk) (2024.11.6)\n",
      "Requirement already satisfied: tqdm in c:\\users\\dell\\appdata\\local\\programs\\python\\python311\\lib\\site-packages (from nltk) (4.66.1)\n",
      "Requirement already satisfied: colorama in c:\\users\\dell\\appdata\\local\\programs\\python\\python311\\lib\\site-packages (from click->nltk) (0.4.6)\n"
     ]
    }
   ],
   "source": [
    "! pip install nltk"
   ]
  },
  {
   "cell_type": "code",
   "execution_count": 2,
   "id": "c77c26bb-6eec-4d35-9964-c1ee0cc2ab98",
   "metadata": {},
   "outputs": [],
   "source": [
    "movies= pd.read_csv('tmdb_5000_movies.csv')"
   ]
  },
  {
   "cell_type": "code",
   "execution_count": 3,
   "id": "b176cd3f-8f5e-439a-9d17-56c48a8d8b48",
   "metadata": {},
   "outputs": [],
   "source": [
    "credits= pd.read_csv('tmdb_5000_credits.csv')"
   ]
  },
  {
   "cell_type": "code",
   "execution_count": 4,
   "id": "54e73b37-e7ba-4e19-b54c-9d679fff6352",
   "metadata": {},
   "outputs": [],
   "source": [
    "Movies=movies.merge(credits, on=\"title\")"
   ]
  },
  {
   "cell_type": "code",
   "execution_count": null,
   "id": "9ad14263-9363-4891-81b7-68ba80c4e685",
   "metadata": {},
   "outputs": [],
   "source": []
  },
  {
   "cell_type": "code",
   "execution_count": 5,
   "id": "2327d19e-4604-4573-b68d-ff9cfd1cc4f0",
   "metadata": {},
   "outputs": [],
   "source": [
    "Credits=credits.merge(movies, on=\"title\")"
   ]
  },
  {
   "cell_type": "code",
   "execution_count": 6,
   "id": "3c8ada41-7326-4213-8334-3a92327d6cbe",
   "metadata": {},
   "outputs": [
    {
     "data": {
      "text/plain": [
       "(1, 23)"
      ]
     },
     "execution_count": 6,
     "metadata": {},
     "output_type": "execute_result"
    }
   ],
   "source": [
    "Credits.head(1).shape"
   ]
  },
  {
   "cell_type": "code",
   "execution_count": 7,
   "id": "f2fda4d9-dbc0-491d-b6bc-6f7ca706c06b",
   "metadata": {},
   "outputs": [],
   "source": [
    "Movies=Movies[['movie_id','genres',\"title\",\"cast\",\"keywords\",\"crew\"]]"
   ]
  },
  {
   "cell_type": "code",
   "execution_count": 8,
   "id": "a60ed1c7-1b11-4a40-985a-825bbd3404b6",
   "metadata": {},
   "outputs": [
    {
     "data": {
      "text/plain": [
       "movie_id    0\n",
       "genres      0\n",
       "title       0\n",
       "cast        0\n",
       "keywords    0\n",
       "crew        0\n",
       "dtype: int64"
      ]
     },
     "execution_count": 8,
     "metadata": {},
     "output_type": "execute_result"
    }
   ],
   "source": [
    " Movies.isnull().sum()"
   ]
  },
  {
   "cell_type": "code",
   "execution_count": 11,
   "id": "07228817-87dd-41ce-b658-9cc45c4ceee2",
   "metadata": {},
   "outputs": [],
   "source": [
    " Movies.dropna(inplace=True)"
   ]
  },
  {
   "cell_type": "code",
   "execution_count": 12,
   "id": "b8783312-988b-4fd2-9ad9-13e8423c8cd3",
   "metadata": {},
   "outputs": [
    {
     "data": {
      "text/plain": [
       "0"
      ]
     },
     "execution_count": 12,
     "metadata": {},
     "output_type": "execute_result"
    }
   ],
   "source": [
    "Movies.duplicated().sum()"
   ]
  },
  {
   "cell_type": "code",
   "execution_count": 13,
   "id": "e4a29e3d-624f-44c6-b7c5-97e602c1a2b4",
   "metadata": {},
   "outputs": [],
   "source": [
    "# for the genres of the each movies\n",
    "# creating a function and append the data in the list\n",
    "def new_genres(obj):\n",
    "    l=[]\n",
    "    for i in ast.literal_eval(obj):\n",
    "        l.append(i[\"name\"])\n",
    "    return l\n"
   ]
  },
  {
   "cell_type": "code",
   "execution_count": 14,
   "id": "ae17b642-4a1a-43e4-8126-332f9db315cd",
   "metadata": {},
   "outputs": [],
   "source": [
    "Movies['genres']=Movies['genres'].apply(new_genres)"
   ]
  },
  {
   "cell_type": "code",
   "execution_count": 15,
   "id": "cfd6ab18-6726-4fa4-a7a5-a82c119b17c2",
   "metadata": {},
   "outputs": [],
   "source": [
    "# Movies.genres"
   ]
  },
  {
   "cell_type": "code",
   "execution_count": 16,
   "id": "f951bb55-86ee-4528-99b5-10248eb8b62b",
   "metadata": {},
   "outputs": [],
   "source": [
    " # for i in range(len(Movies)+1):\n",
    " #    list=[]\n",
    " #    for li in Movies.genres:\n",
    " #     list.append(li)\n",
    " #     print(list)\n"
   ]
  },
  {
   "cell_type": "code",
   "execution_count": null,
   "id": "6693269e-f022-4ef5-91c4-43ed7426165c",
   "metadata": {},
   "outputs": [],
   "source": []
  },
  {
   "cell_type": "code",
   "execution_count": 17,
   "id": "15e2c29b-3b69-40be-9a15-77cf35f3bcbf",
   "metadata": {},
   "outputs": [],
   "source": [
    "# for i in range(len(Movies)+1):\n",
    "#     lis=[]\n",
    "#     for li in Movies.keywords:\n",
    "#         lis.append(li['name'])\n",
    "#         print(lis)"
   ]
  },
  {
   "cell_type": "code",
   "execution_count": 18,
   "id": "0b4560d5-a4bb-424b-96d6-701a933d705e",
   "metadata": {},
   "outputs": [],
   "source": [
    "# for the keywords of the each movies\n",
    "def new_keywords(obj):\n",
    "    l=[]\n",
    "    for i in ast.literal_eval(obj):\n",
    "        l.append(i[\"name\"])\n",
    "    return l"
   ]
  },
  {
   "cell_type": "code",
   "execution_count": 19,
   "id": "52be1625-fd59-4f7d-9880-2e097592280e",
   "metadata": {},
   "outputs": [],
   "source": [
    "Movies[\"keywords\"]=Movies[\"keywords\"].apply(new_keywords)"
   ]
  },
  {
   "cell_type": "code",
   "execution_count": 20,
   "id": "838fa245-f55b-4cdd-b177-3bc4f035e384",
   "metadata": {},
   "outputs": [],
   "source": [
    "# Movies.keywords\n"
   ]
  },
  {
   "cell_type": "code",
   "execution_count": null,
   "id": "73255616-5a91-4205-a93a-8485672ab7ed",
   "metadata": {},
   "outputs": [],
   "source": []
  },
  {
   "cell_type": "code",
   "execution_count": 21,
   "id": "8f6dabb6-549a-4f0e-9ac4-884d3cf6fe06",
   "metadata": {},
   "outputs": [],
   "source": [
    "# for the cast of the each movies\n",
    "# creating a function and append the data in the list\n",
    "def cast(obj):\n",
    "    lis=[]\n",
    "    for i in ast.literal_eval(obj):\n",
    "        lis.append(i[\"name\"])\n",
    "    return lis  "
   ]
  },
  {
   "cell_type": "code",
   "execution_count": 22,
   "id": "5f30cae5-832f-485e-afd2-32b4b2e82dbe",
   "metadata": {},
   "outputs": [],
   "source": [
    "Movies[\"cast\"]=Movies[\"cast\"].apply(cast)"
   ]
  },
  {
   "cell_type": "code",
   "execution_count": 23,
   "id": "8b455e01-d032-4539-8eb8-456c8d3719d8",
   "metadata": {},
   "outputs": [],
   "source": [
    "# Movies.cast[0]"
   ]
  },
  {
   "cell_type": "code",
   "execution_count": 24,
   "id": "a13c4ccd-2199-4933-b530-d735167194dd",
   "metadata": {},
   "outputs": [],
   "source": [
    "# def converts1(obj):\n",
    "#     lis=[]\n",
    "#     counter = 0\n",
    "#     for i in ast.literal_eval(obj):\n",
    "#         if counter !=3:\n",
    "#             lis.append(i[\"name\"])\n",
    "#             counter+=1\n",
    "#         else:\n",
    "#             break\n",
    "#     return lis  \n"
   ]
  },
  {
   "cell_type": "code",
   "execution_count": 25,
   "id": "52456424-aeb5-4d1d-89a9-d7839e6ad79f",
   "metadata": {},
   "outputs": [],
   "source": [
    "# for the crew of the each movie\n",
    "# creating a function and append the data in the list\n",
    "def extracting_director(obj):\n",
    "    dire=[]\n",
    "    for i in ast.literal_eval(obj):\n",
    "        if i['job'] == 'Director':\n",
    "            dire.append(i['name'])\n",
    "            break\n",
    "    return dire    "
   ]
  },
  {
   "cell_type": "code",
   "execution_count": 26,
   "id": "61a1657e-e8c0-4eb5-beba-169052d3c146",
   "metadata": {},
   "outputs": [],
   "source": [
    "\n",
    "Movies['crew']=Movies['crew'].apply(extracting_director)"
   ]
  },
  {
   "cell_type": "code",
   "execution_count": null,
   "id": "91f261e4-7d7e-46e6-b422-7bc680817a02",
   "metadata": {},
   "outputs": [],
   "source": []
  },
  {
   "cell_type": "code",
   "execution_count": 27,
   "id": "713ca1bd-f6f6-4a5a-bbf8-188649038894",
   "metadata": {},
   "outputs": [],
   "source": [
    "# Movies.crew"
   ]
  },
  {
   "cell_type": "code",
   "execution_count": null,
   "id": "1f1dde94-b71a-4d37-889b-8700b5696e4a",
   "metadata": {
    "scrolled": true
   },
   "outputs": [],
   "source": []
  },
  {
   "cell_type": "code",
   "execution_count": null,
   "id": "a6f6b20e-03cf-45fb-a12f-d0f8133b28e4",
   "metadata": {},
   "outputs": [],
   "source": []
  },
  {
   "cell_type": "code",
   "execution_count": 28,
   "id": "a907d452-5f97-4c4b-8e8f-62da1f062ef8",
   "metadata": {},
   "outputs": [],
   "source": [
    "# # for the crew of the movies\n",
    "# # creating a function with the function_name of convertsql and the name of the cast is append in a list \n",
    "# def converted(obj):\n",
    "#     L=[]\n",
    "#     counter=0\n",
    "#     for i in ast.literal_eval(obj): \n",
    "#         if counter!=3:\n",
    "#             L.append(i['name'])\n",
    "#             counter+=1\n",
    "#         else:\n",
    "#             break\n",
    "#     return L        "
   ]
  },
  {
   "cell_type": "code",
   "execution_count": 29,
   "id": "6ad5cef4-3e1f-43fb-8e20-4ed116a6b573",
   "metadata": {},
   "outputs": [],
   "source": [
    "# Movies['cast']=Movies['cast'].apply(converted)"
   ]
  },
  {
   "cell_type": "code",
   "execution_count": null,
   "id": "39c9f2bf-2d0d-47ab-b031-3990bb35b2a4",
   "metadata": {},
   "outputs": [],
   "source": [
    "\n"
   ]
  },
  {
   "cell_type": "code",
   "execution_count": null,
   "id": "7cda559d-dae5-492a-a82d-f79618ea3426",
   "metadata": {},
   "outputs": [],
   "source": []
  },
  {
   "cell_type": "code",
   "execution_count": null,
   "id": "13e1c65d-ecac-4464-8a28-d552a16de489",
   "metadata": {},
   "outputs": [],
   "source": []
  },
  {
   "cell_type": "code",
   "execution_count": null,
   "id": "739dee08-59ed-48db-b3bc-674ddcd8edb5",
   "metadata": {},
   "outputs": [],
   "source": []
  },
  {
   "cell_type": "code",
   "execution_count": 30,
   "id": "bbfbf00a-3f2e-4440-b7d1-cf008c76d5a5",
   "metadata": {
    "scrolled": true
   },
   "outputs": [],
   "source": [
    "Movies['tags']=Movies['genres']+Movies['keywords']+Movies['cast']+Movies['crew']"
   ]
  },
  {
   "cell_type": "code",
   "execution_count": 31,
   "id": "2f86bacc-858a-4289-b866-2d068f23ad49",
   "metadata": {},
   "outputs": [
    {
     "data": {
      "text/html": [
       "<div>\n",
       "<style scoped>\n",
       "    .dataframe tbody tr th:only-of-type {\n",
       "        vertical-align: middle;\n",
       "    }\n",
       "\n",
       "    .dataframe tbody tr th {\n",
       "        vertical-align: top;\n",
       "    }\n",
       "\n",
       "    .dataframe thead th {\n",
       "        text-align: right;\n",
       "    }\n",
       "</style>\n",
       "<table border=\"1\" class=\"dataframe\">\n",
       "  <thead>\n",
       "    <tr style=\"text-align: right;\">\n",
       "      <th></th>\n",
       "      <th>movie_id</th>\n",
       "      <th>genres</th>\n",
       "      <th>title</th>\n",
       "      <th>cast</th>\n",
       "      <th>keywords</th>\n",
       "      <th>crew</th>\n",
       "      <th>tags</th>\n",
       "    </tr>\n",
       "  </thead>\n",
       "  <tbody>\n",
       "    <tr>\n",
       "      <th>0</th>\n",
       "      <td>19995</td>\n",
       "      <td>[Action, Adventure, Fantasy, Science Fiction]</td>\n",
       "      <td>Avatar</td>\n",
       "      <td>[Sam Worthington, Zoe Saldana, Sigourney Weave...</td>\n",
       "      <td>[culture clash, future, space war, space colon...</td>\n",
       "      <td>[James Cameron]</td>\n",
       "      <td>[Action, Adventure, Fantasy, Science Fiction, ...</td>\n",
       "    </tr>\n",
       "    <tr>\n",
       "      <th>1</th>\n",
       "      <td>285</td>\n",
       "      <td>[Adventure, Fantasy, Action]</td>\n",
       "      <td>Pirates of the Caribbean: At World's End</td>\n",
       "      <td>[Johnny Depp, Orlando Bloom, Keira Knightley, ...</td>\n",
       "      <td>[ocean, drug abuse, exotic island, east india ...</td>\n",
       "      <td>[Gore Verbinski]</td>\n",
       "      <td>[Adventure, Fantasy, Action, ocean, drug abuse...</td>\n",
       "    </tr>\n",
       "    <tr>\n",
       "      <th>2</th>\n",
       "      <td>206647</td>\n",
       "      <td>[Action, Adventure, Crime]</td>\n",
       "      <td>Spectre</td>\n",
       "      <td>[Daniel Craig, Christoph Waltz, Léa Seydoux, R...</td>\n",
       "      <td>[spy, based on novel, secret agent, sequel, mi...</td>\n",
       "      <td>[Sam Mendes]</td>\n",
       "      <td>[Action, Adventure, Crime, spy, based on novel...</td>\n",
       "    </tr>\n",
       "    <tr>\n",
       "      <th>3</th>\n",
       "      <td>49026</td>\n",
       "      <td>[Action, Crime, Drama, Thriller]</td>\n",
       "      <td>The Dark Knight Rises</td>\n",
       "      <td>[Christian Bale, Michael Caine, Gary Oldman, A...</td>\n",
       "      <td>[dc comics, crime fighter, terrorist, secret i...</td>\n",
       "      <td>[Christopher Nolan]</td>\n",
       "      <td>[Action, Crime, Drama, Thriller, dc comics, cr...</td>\n",
       "    </tr>\n",
       "    <tr>\n",
       "      <th>4</th>\n",
       "      <td>49529</td>\n",
       "      <td>[Action, Adventure, Science Fiction]</td>\n",
       "      <td>John Carter</td>\n",
       "      <td>[Taylor Kitsch, Lynn Collins, Samantha Morton,...</td>\n",
       "      <td>[based on novel, mars, medallion, space travel...</td>\n",
       "      <td>[Andrew Stanton]</td>\n",
       "      <td>[Action, Adventure, Science Fiction, based on ...</td>\n",
       "    </tr>\n",
       "  </tbody>\n",
       "</table>\n",
       "</div>"
      ],
      "text/plain": [
       "   movie_id                                         genres  \\\n",
       "0     19995  [Action, Adventure, Fantasy, Science Fiction]   \n",
       "1       285                   [Adventure, Fantasy, Action]   \n",
       "2    206647                     [Action, Adventure, Crime]   \n",
       "3     49026               [Action, Crime, Drama, Thriller]   \n",
       "4     49529           [Action, Adventure, Science Fiction]   \n",
       "\n",
       "                                      title  \\\n",
       "0                                    Avatar   \n",
       "1  Pirates of the Caribbean: At World's End   \n",
       "2                                   Spectre   \n",
       "3                     The Dark Knight Rises   \n",
       "4                               John Carter   \n",
       "\n",
       "                                                cast  \\\n",
       "0  [Sam Worthington, Zoe Saldana, Sigourney Weave...   \n",
       "1  [Johnny Depp, Orlando Bloom, Keira Knightley, ...   \n",
       "2  [Daniel Craig, Christoph Waltz, Léa Seydoux, R...   \n",
       "3  [Christian Bale, Michael Caine, Gary Oldman, A...   \n",
       "4  [Taylor Kitsch, Lynn Collins, Samantha Morton,...   \n",
       "\n",
       "                                            keywords                 crew  \\\n",
       "0  [culture clash, future, space war, space colon...      [James Cameron]   \n",
       "1  [ocean, drug abuse, exotic island, east india ...     [Gore Verbinski]   \n",
       "2  [spy, based on novel, secret agent, sequel, mi...         [Sam Mendes]   \n",
       "3  [dc comics, crime fighter, terrorist, secret i...  [Christopher Nolan]   \n",
       "4  [based on novel, mars, medallion, space travel...     [Andrew Stanton]   \n",
       "\n",
       "                                                tags  \n",
       "0  [Action, Adventure, Fantasy, Science Fiction, ...  \n",
       "1  [Adventure, Fantasy, Action, ocean, drug abuse...  \n",
       "2  [Action, Adventure, Crime, spy, based on novel...  \n",
       "3  [Action, Crime, Drama, Thriller, dc comics, cr...  \n",
       "4  [Action, Adventure, Science Fiction, based on ...  "
      ]
     },
     "execution_count": 31,
     "metadata": {},
     "output_type": "execute_result"
    }
   ],
   "source": [
    "Movies.head()"
   ]
  },
  {
   "cell_type": "code",
   "execution_count": 32,
   "id": "fe8be121-0577-4cf0-8949-2a59f6f8030d",
   "metadata": {},
   "outputs": [],
   "source": [
    "new_df=Movies[['movie_id','title','tags']]"
   ]
  },
  {
   "cell_type": "code",
   "execution_count": 33,
   "id": "fa737bb0-cc18-4f48-8e37-0c32b35da045",
   "metadata": {},
   "outputs": [
    {
     "data": {
      "text/html": [
       "<div>\n",
       "<style scoped>\n",
       "    .dataframe tbody tr th:only-of-type {\n",
       "        vertical-align: middle;\n",
       "    }\n",
       "\n",
       "    .dataframe tbody tr th {\n",
       "        vertical-align: top;\n",
       "    }\n",
       "\n",
       "    .dataframe thead th {\n",
       "        text-align: right;\n",
       "    }\n",
       "</style>\n",
       "<table border=\"1\" class=\"dataframe\">\n",
       "  <thead>\n",
       "    <tr style=\"text-align: right;\">\n",
       "      <th></th>\n",
       "      <th>movie_id</th>\n",
       "      <th>title</th>\n",
       "      <th>tags</th>\n",
       "    </tr>\n",
       "  </thead>\n",
       "  <tbody>\n",
       "    <tr>\n",
       "      <th>0</th>\n",
       "      <td>19995</td>\n",
       "      <td>Avatar</td>\n",
       "      <td>[Action, Adventure, Fantasy, Science Fiction, ...</td>\n",
       "    </tr>\n",
       "    <tr>\n",
       "      <th>1</th>\n",
       "      <td>285</td>\n",
       "      <td>Pirates of the Caribbean: At World's End</td>\n",
       "      <td>[Adventure, Fantasy, Action, ocean, drug abuse...</td>\n",
       "    </tr>\n",
       "    <tr>\n",
       "      <th>2</th>\n",
       "      <td>206647</td>\n",
       "      <td>Spectre</td>\n",
       "      <td>[Action, Adventure, Crime, spy, based on novel...</td>\n",
       "    </tr>\n",
       "    <tr>\n",
       "      <th>3</th>\n",
       "      <td>49026</td>\n",
       "      <td>The Dark Knight Rises</td>\n",
       "      <td>[Action, Crime, Drama, Thriller, dc comics, cr...</td>\n",
       "    </tr>\n",
       "    <tr>\n",
       "      <th>4</th>\n",
       "      <td>49529</td>\n",
       "      <td>John Carter</td>\n",
       "      <td>[Action, Adventure, Science Fiction, based on ...</td>\n",
       "    </tr>\n",
       "  </tbody>\n",
       "</table>\n",
       "</div>"
      ],
      "text/plain": [
       "   movie_id                                     title  \\\n",
       "0     19995                                    Avatar   \n",
       "1       285  Pirates of the Caribbean: At World's End   \n",
       "2    206647                                   Spectre   \n",
       "3     49026                     The Dark Knight Rises   \n",
       "4     49529                               John Carter   \n",
       "\n",
       "                                                tags  \n",
       "0  [Action, Adventure, Fantasy, Science Fiction, ...  \n",
       "1  [Adventure, Fantasy, Action, ocean, drug abuse...  \n",
       "2  [Action, Adventure, Crime, spy, based on novel...  \n",
       "3  [Action, Crime, Drama, Thriller, dc comics, cr...  \n",
       "4  [Action, Adventure, Science Fiction, based on ...  "
      ]
     },
     "execution_count": 33,
     "metadata": {},
     "output_type": "execute_result"
    }
   ],
   "source": [
    "new_df.head()"
   ]
  },
  {
   "cell_type": "code",
   "execution_count": 34,
   "id": "476df752-9811-4d96-a993-eb89a16be06c",
   "metadata": {},
   "outputs": [
    {
     "name": "stderr",
     "output_type": "stream",
     "text": [
      "C:\\Users\\Dell\\AppData\\Local\\Temp\\ipykernel_15988\\487797088.py:1: SettingWithCopyWarning: \n",
      "A value is trying to be set on a copy of a slice from a DataFrame.\n",
      "Try using .loc[row_indexer,col_indexer] = value instead\n",
      "\n",
      "See the caveats in the documentation: https://pandas.pydata.org/pandas-docs/stable/user_guide/indexing.html#returning-a-view-versus-a-copy\n",
      "  new_df['tags']=new_df['tags'].apply(lambda x:\" \".join(x))\n"
     ]
    }
   ],
   "source": [
    "new_df['tags']=new_df['tags'].apply(lambda x:\" \".join(x))"
   ]
  },
  {
   "cell_type": "code",
   "execution_count": 35,
   "id": "1993e1b2-87d2-42b5-a8ca-3e1c141555ba",
   "metadata": {},
   "outputs": [
    {
     "data": {
      "text/html": [
       "<div>\n",
       "<style scoped>\n",
       "    .dataframe tbody tr th:only-of-type {\n",
       "        vertical-align: middle;\n",
       "    }\n",
       "\n",
       "    .dataframe tbody tr th {\n",
       "        vertical-align: top;\n",
       "    }\n",
       "\n",
       "    .dataframe thead th {\n",
       "        text-align: right;\n",
       "    }\n",
       "</style>\n",
       "<table border=\"1\" class=\"dataframe\">\n",
       "  <thead>\n",
       "    <tr style=\"text-align: right;\">\n",
       "      <th></th>\n",
       "      <th>movie_id</th>\n",
       "      <th>title</th>\n",
       "      <th>tags</th>\n",
       "    </tr>\n",
       "  </thead>\n",
       "  <tbody>\n",
       "    <tr>\n",
       "      <th>0</th>\n",
       "      <td>19995</td>\n",
       "      <td>Avatar</td>\n",
       "      <td>Action Adventure Fantasy Science Fiction cultu...</td>\n",
       "    </tr>\n",
       "    <tr>\n",
       "      <th>1</th>\n",
       "      <td>285</td>\n",
       "      <td>Pirates of the Caribbean: At World's End</td>\n",
       "      <td>Adventure Fantasy Action ocean drug abuse exot...</td>\n",
       "    </tr>\n",
       "    <tr>\n",
       "      <th>2</th>\n",
       "      <td>206647</td>\n",
       "      <td>Spectre</td>\n",
       "      <td>Action Adventure Crime spy based on novel secr...</td>\n",
       "    </tr>\n",
       "    <tr>\n",
       "      <th>3</th>\n",
       "      <td>49026</td>\n",
       "      <td>The Dark Knight Rises</td>\n",
       "      <td>Action Crime Drama Thriller dc comics crime fi...</td>\n",
       "    </tr>\n",
       "    <tr>\n",
       "      <th>4</th>\n",
       "      <td>49529</td>\n",
       "      <td>John Carter</td>\n",
       "      <td>Action Adventure Science Fiction based on nove...</td>\n",
       "    </tr>\n",
       "  </tbody>\n",
       "</table>\n",
       "</div>"
      ],
      "text/plain": [
       "   movie_id                                     title  \\\n",
       "0     19995                                    Avatar   \n",
       "1       285  Pirates of the Caribbean: At World's End   \n",
       "2    206647                                   Spectre   \n",
       "3     49026                     The Dark Knight Rises   \n",
       "4     49529                               John Carter   \n",
       "\n",
       "                                                tags  \n",
       "0  Action Adventure Fantasy Science Fiction cultu...  \n",
       "1  Adventure Fantasy Action ocean drug abuse exot...  \n",
       "2  Action Adventure Crime spy based on novel secr...  \n",
       "3  Action Crime Drama Thriller dc comics crime fi...  \n",
       "4  Action Adventure Science Fiction based on nove...  "
      ]
     },
     "execution_count": 35,
     "metadata": {},
     "output_type": "execute_result"
    }
   ],
   "source": [
    "new_df.head()\n"
   ]
  },
  {
   "cell_type": "code",
   "execution_count": 36,
   "id": "c5b8aed9-ac5d-4eb2-aedf-08dbfd9156fc",
   "metadata": {},
   "outputs": [
    {
     "data": {
      "text/html": [
       "<div>\n",
       "<style scoped>\n",
       "    .dataframe tbody tr th:only-of-type {\n",
       "        vertical-align: middle;\n",
       "    }\n",
       "\n",
       "    .dataframe tbody tr th {\n",
       "        vertical-align: top;\n",
       "    }\n",
       "\n",
       "    .dataframe thead th {\n",
       "        text-align: right;\n",
       "    }\n",
       "</style>\n",
       "<table border=\"1\" class=\"dataframe\">\n",
       "  <thead>\n",
       "    <tr style=\"text-align: right;\">\n",
       "      <th></th>\n",
       "      <th>movie_id</th>\n",
       "      <th>title</th>\n",
       "      <th>tags</th>\n",
       "    </tr>\n",
       "  </thead>\n",
       "  <tbody>\n",
       "    <tr>\n",
       "      <th>0</th>\n",
       "      <td>19995</td>\n",
       "      <td>Avatar</td>\n",
       "      <td>Action Adventure Fantasy Science Fiction cultu...</td>\n",
       "    </tr>\n",
       "    <tr>\n",
       "      <th>1</th>\n",
       "      <td>285</td>\n",
       "      <td>Pirates of the Caribbean: At World's End</td>\n",
       "      <td>Adventure Fantasy Action ocean drug abuse exot...</td>\n",
       "    </tr>\n",
       "    <tr>\n",
       "      <th>2</th>\n",
       "      <td>206647</td>\n",
       "      <td>Spectre</td>\n",
       "      <td>Action Adventure Crime spy based on novel secr...</td>\n",
       "    </tr>\n",
       "    <tr>\n",
       "      <th>3</th>\n",
       "      <td>49026</td>\n",
       "      <td>The Dark Knight Rises</td>\n",
       "      <td>Action Crime Drama Thriller dc comics crime fi...</td>\n",
       "    </tr>\n",
       "    <tr>\n",
       "      <th>4</th>\n",
       "      <td>49529</td>\n",
       "      <td>John Carter</td>\n",
       "      <td>Action Adventure Science Fiction based on nove...</td>\n",
       "    </tr>\n",
       "  </tbody>\n",
       "</table>\n",
       "</div>"
      ],
      "text/plain": [
       "   movie_id                                     title  \\\n",
       "0     19995                                    Avatar   \n",
       "1       285  Pirates of the Caribbean: At World's End   \n",
       "2    206647                                   Spectre   \n",
       "3     49026                     The Dark Knight Rises   \n",
       "4     49529                               John Carter   \n",
       "\n",
       "                                                tags  \n",
       "0  Action Adventure Fantasy Science Fiction cultu...  \n",
       "1  Adventure Fantasy Action ocean drug abuse exot...  \n",
       "2  Action Adventure Crime spy based on novel secr...  \n",
       "3  Action Crime Drama Thriller dc comics crime fi...  \n",
       "4  Action Adventure Science Fiction based on nove...  "
      ]
     },
     "execution_count": 36,
     "metadata": {},
     "output_type": "execute_result"
    }
   ],
   "source": [
    "new_df.head()"
   ]
  },
  {
   "cell_type": "code",
   "execution_count": 37,
   "id": "bf1d732c-0797-42e9-8cda-94e3c5151555",
   "metadata": {},
   "outputs": [
    {
     "name": "stderr",
     "output_type": "stream",
     "text": [
      "C:\\Users\\Dell\\AppData\\Local\\Temp\\ipykernel_15988\\4224080999.py:1: SettingWithCopyWarning: \n",
      "A value is trying to be set on a copy of a slice from a DataFrame.\n",
      "Try using .loc[row_indexer,col_indexer] = value instead\n",
      "\n",
      "See the caveats in the documentation: https://pandas.pydata.org/pandas-docs/stable/user_guide/indexing.html#returning-a-view-versus-a-copy\n",
      "  new_df['tags']=new_df['tags'].apply(lambda x:x.lower())\n"
     ]
    }
   ],
   "source": [
    "new_df['tags']=new_df['tags'].apply(lambda x:x.lower())"
   ]
  },
  {
   "cell_type": "code",
   "execution_count": 38,
   "id": "ec0898e1-2e56-42ce-bc66-0d45827a4667",
   "metadata": {},
   "outputs": [
    {
     "data": {
      "text/html": [
       "<div>\n",
       "<style scoped>\n",
       "    .dataframe tbody tr th:only-of-type {\n",
       "        vertical-align: middle;\n",
       "    }\n",
       "\n",
       "    .dataframe tbody tr th {\n",
       "        vertical-align: top;\n",
       "    }\n",
       "\n",
       "    .dataframe thead th {\n",
       "        text-align: right;\n",
       "    }\n",
       "</style>\n",
       "<table border=\"1\" class=\"dataframe\">\n",
       "  <thead>\n",
       "    <tr style=\"text-align: right;\">\n",
       "      <th></th>\n",
       "      <th>movie_id</th>\n",
       "      <th>title</th>\n",
       "      <th>tags</th>\n",
       "    </tr>\n",
       "  </thead>\n",
       "  <tbody>\n",
       "    <tr>\n",
       "      <th>0</th>\n",
       "      <td>19995</td>\n",
       "      <td>Avatar</td>\n",
       "      <td>action adventure fantasy science fiction cultu...</td>\n",
       "    </tr>\n",
       "    <tr>\n",
       "      <th>1</th>\n",
       "      <td>285</td>\n",
       "      <td>Pirates of the Caribbean: At World's End</td>\n",
       "      <td>adventure fantasy action ocean drug abuse exot...</td>\n",
       "    </tr>\n",
       "    <tr>\n",
       "      <th>2</th>\n",
       "      <td>206647</td>\n",
       "      <td>Spectre</td>\n",
       "      <td>action adventure crime spy based on novel secr...</td>\n",
       "    </tr>\n",
       "    <tr>\n",
       "      <th>3</th>\n",
       "      <td>49026</td>\n",
       "      <td>The Dark Knight Rises</td>\n",
       "      <td>action crime drama thriller dc comics crime fi...</td>\n",
       "    </tr>\n",
       "    <tr>\n",
       "      <th>4</th>\n",
       "      <td>49529</td>\n",
       "      <td>John Carter</td>\n",
       "      <td>action adventure science fiction based on nove...</td>\n",
       "    </tr>\n",
       "  </tbody>\n",
       "</table>\n",
       "</div>"
      ],
      "text/plain": [
       "   movie_id                                     title  \\\n",
       "0     19995                                    Avatar   \n",
       "1       285  Pirates of the Caribbean: At World's End   \n",
       "2    206647                                   Spectre   \n",
       "3     49026                     The Dark Knight Rises   \n",
       "4     49529                               John Carter   \n",
       "\n",
       "                                                tags  \n",
       "0  action adventure fantasy science fiction cultu...  \n",
       "1  adventure fantasy action ocean drug abuse exot...  \n",
       "2  action adventure crime spy based on novel secr...  \n",
       "3  action crime drama thriller dc comics crime fi...  \n",
       "4  action adventure science fiction based on nove...  "
      ]
     },
     "execution_count": 38,
     "metadata": {},
     "output_type": "execute_result"
    }
   ],
   "source": [
    "new_df.head()"
   ]
  },
  {
   "cell_type": "code",
   "execution_count": 61,
   "id": "e38c238e-668d-4875-a848-d1dc7a04be08",
   "metadata": {},
   "outputs": [],
   "source": [
    "# using nltk library for the stemming"
   ]
  },
  {
   "cell_type": "code",
   "execution_count": 63,
   "id": "0b29feca-8846-4618-b1f1-626681ed4bb2",
   "metadata": {},
   "outputs": [],
   "source": [
    "from nltk.stem.porter import PorterStemmer\n",
    "ps= PorterStemmer()"
   ]
  },
  {
   "cell_type": "code",
   "execution_count": 66,
   "id": "5b84933b-6578-47d5-b659-42f7d3eddf20",
   "metadata": {},
   "outputs": [],
   "source": [
    "def stem(text):\n",
    "    y=[]\n",
    "    for i in text.split():\n",
    "        y.append(ps.stem(i))\n",
    "    return \" \".join(y)    \n",
    "        "
   ]
  },
  {
   "cell_type": "code",
   "execution_count": 70,
   "id": "6b8b82a9-b952-45ba-bb7d-b04cc3057f5f",
   "metadata": {},
   "outputs": [
    {
     "name": "stderr",
     "output_type": "stream",
     "text": [
      "C:\\Users\\Dell\\AppData\\Local\\Temp\\ipykernel_15988\\3514595201.py:1: SettingWithCopyWarning: \n",
      "A value is trying to be set on a copy of a slice from a DataFrame.\n",
      "Try using .loc[row_indexer,col_indexer] = value instead\n",
      "\n",
      "See the caveats in the documentation: https://pandas.pydata.org/pandas-docs/stable/user_guide/indexing.html#returning-a-view-versus-a-copy\n",
      "  new_df['tags']=new_df['tags'].apply(stem)\n"
     ]
    }
   ],
   "source": [
    "new_df['tags']=new_df['tags'].apply(stem)"
   ]
  },
  {
   "cell_type": "code",
   "execution_count": 39,
   "id": "0c4bd10a-9d85-4394-a0e0-533cf4d8f88c",
   "metadata": {},
   "outputs": [
    {
     "data": {
      "text/plain": [
       "'action adventure fantasy science fiction culture clash future space war space colony society space travel futuristic romance space alien tribe alien planet cgi marine soldier battle love affair anti war power relations mind and soul 3d sam worthington zoe saldana sigourney weaver stephen lang michelle rodriguez giovanni ribisi joel david moore cch pounder wes studi laz alonso dileep rao matt gerald sean anthony moran jason whyte scott lawrence kelly kilgour james patrick pitt sean patrick murphy peter dillon kevin dorman kelson henderson david van horn jacob tomuri michael blain-rozgay jon curry luke hawker woody schultz peter mensah sonia yee jahnel curfman ilram choi kyla warren lisa roumain debra wilson chris mala taylor kibby jodie landau julie lamm cullen b. madden joseph brady madden frankie torres austin wilson sara wilson tamica washington-miller lucy briant nathan meister gerry blair matthew chamberlain paul yates wray wilson james gaylyn melvin leno clark iii carvon futrell brandon jelkes micah moch hanniyah muhammad christopher nolen christa oliver april marie thomas bravita a. threatt colin bleasdale mike bodnar matt clayton nicole dionne jamie harrison allan henry anthony ingruber ashley jeffery dean knowsley joseph mika-hunt terry notary kai pantano logan pithyou stuart pollock raja gareth ruck rhian sheehan t. j. storm jodie taylor alicia vela-bailey richard whiteside nikie zambo julene renee james cameron'"
      ]
     },
     "execution_count": 39,
     "metadata": {},
     "output_type": "execute_result"
    }
   ],
   "source": [
    "new_df[\"tags\"][0]"
   ]
  },
  {
   "cell_type": "code",
   "execution_count": 41,
   "id": "0612ce6b-9f5e-41b6-b1b5-ac3119b57cb4",
   "metadata": {},
   "outputs": [
    {
     "data": {
      "text/plain": [
       "\"adventure fantasy action ocean drug abuse exotic island east india trading company love of one's life traitor shipwreck strong woman ship alliance calypso afterlife fighter pirate swashbuckler aftercreditsstinger johnny depp orlando bloom keira knightley stellan skarsgård chow yun-fat bill nighy geoffrey rush jack davenport kevin mcnally tom hollander naomie harris jonathan pryce keith richards lee arenberg mackenzie crook greg ellis david bailie martin klebba david schofield lauren maher vanessa branch angus barnett giles new reggie lee dominic scott kay takayo fischer david meunier ho-kwan tse andy beckwith peter donald badalamenti ii christopher s. capp keith richards hakeem kae-kazim ghassan massoud gore verbinski\""
      ]
     },
     "execution_count": 41,
     "metadata": {},
     "output_type": "execute_result"
    }
   ],
   "source": [
    "new_df['tags'][1]"
   ]
  },
  {
   "cell_type": "code",
   "execution_count": 45,
   "id": "36b81922-ff56-4ab0-9732-1bcba54e5812",
   "metadata": {},
   "outputs": [],
   "source": [
    "# sklearn"
   ]
  },
  {
   "cell_type": "code",
   "execution_count": 47,
   "id": "2a40bdae-1bbf-4f70-ad3a-91b88a1b40c6",
   "metadata": {},
   "outputs": [],
   "source": [
    "# vectorization\n",
    "# using the sklearn class for converting the text documentation into the matrix of token counts"
   ]
  },
  {
   "cell_type": "code",
   "execution_count": 48,
   "id": "9630cc7c-971f-4b66-8ae8-a9fbabf0563c",
   "metadata": {},
   "outputs": [],
   "source": [
    "from sklearn.feature_extraction.text import CountVectorizer\n",
    "cv = CountVectorizer(max_features=5000, stop_words='english')"
   ]
  },
  {
   "cell_type": "code",
   "execution_count": 51,
   "id": "54315702-ddd0-4bbd-b423-f941ef9394be",
   "metadata": {},
   "outputs": [],
   "source": [
    "vectors=cv.fit_transform(new_df['tags']).toarray()"
   ]
  },
  {
   "cell_type": "code",
   "execution_count": 53,
   "id": "4398ed37-6689-4d36-aa40-c7e383292b8d",
   "metadata": {},
   "outputs": [
    {
     "data": {
      "text/plain": [
       "(4809, 5000)"
      ]
     },
     "execution_count": 53,
     "metadata": {},
     "output_type": "execute_result"
    }
   ],
   "source": [
    "vectors.shape"
   ]
  },
  {
   "cell_type": "code",
   "execution_count": 55,
   "id": "8910db8b-fbfe-4af4-9ad1-383f91aff621",
   "metadata": {},
   "outputs": [
    {
     "data": {
      "text/plain": [
       "array([0, 0, 0, ..., 0, 0, 0], dtype=int64)"
      ]
     },
     "execution_count": 55,
     "metadata": {},
     "output_type": "execute_result"
    }
   ],
   "source": [
    "vectors[0]\n"
   ]
  },
  {
   "cell_type": "code",
   "execution_count": null,
   "id": "8be70139-ee4c-4cd0-9985-6cb83d41f14e",
   "metadata": {},
   "outputs": [],
   "source": []
  },
  {
   "cell_type": "code",
   "execution_count": 68,
   "id": "0f3f9438-909a-4e87-be71-205ef44512e1",
   "metadata": {},
   "outputs": [
    {
     "data": {
      "text/plain": [
       "\"adventur fantasi action ocean drug abus exot island east india trade compani love of one' life traitor shipwreck strong woman ship allianc calypso afterlif fighter pirat swashbuckl aftercreditssting johnni depp orlando bloom keira knightley stellan skarsgård chow yun-fat bill nighi geoffrey rush jack davenport kevin mcnalli tom holland naomi harri jonathan pryce keith richard lee arenberg mackenzi crook greg elli david baili martin klebba david schofield lauren maher vanessa branch angu barnett gile new reggi lee domin scott kay takayo fischer david meunier ho-kwan tse andi beckwith peter donald badalamenti ii christoph s. capp keith richard hakeem kae-kazim ghassan massoud gore verbinski\""
      ]
     },
     "execution_count": 68,
     "metadata": {},
     "output_type": "execute_result"
    }
   ],
   "source": [
    "stem(\"adventure fantasy action ocean drug abuse exotic island east india trading company love of one's life traitor shipwreck strong woman ship alliance calypso afterlife fighter pirate swashbuckler aftercreditsstinger johnny depp orlando bloom keira knightley stellan skarsgård chow yun-fat bill nighy geoffrey rush jack davenport kevin mcnally tom hollander naomie harris jonathan pryce keith richards lee arenberg mackenzie crook greg ellis david bailie martin klebba david schofield lauren maher vanessa branch angus barnett giles new reggie lee dominic scott kay takayo fischer david meunier ho-kwan tse andy beckwith peter donald badalamenti ii christopher s. capp keith richards hakeem kae-kazim ghassan massoud gore verbinski\")"
   ]
  },
  {
   "cell_type": "code",
   "execution_count": 72,
   "id": "4435c523-6266-4b01-a819-462be1bae2a9",
   "metadata": {},
   "outputs": [],
   "source": [
    "from sklearn.metrics.pairwise import cosine_similarity"
   ]
  },
  {
   "cell_type": "code",
   "execution_count": 80,
   "id": "8dbe7c32-4967-4231-83ad-c75f71410c9d",
   "metadata": {},
   "outputs": [],
   "source": [
    "similarity=cosine_similarity(vectors)"
   ]
  },
  {
   "cell_type": "code",
   "execution_count": 108,
   "id": "d614a118-14ed-499b-8034-19c447e7b5d1",
   "metadata": {},
   "outputs": [],
   "source": [
    "# sorted(list(enumerate(similarity[0])),reverse=True,key=lambda x:x[1])[1:5]"
   ]
  },
  {
   "cell_type": "code",
   "execution_count": 82,
   "id": "2c46bb1f-9a2b-4476-9cf4-f67f96b9f47b",
   "metadata": {},
   "outputs": [
    {
     "data": {
      "text/plain": [
       "(4809,)"
      ]
     },
     "execution_count": 82,
     "metadata": {},
     "output_type": "execute_result"
    }
   ],
   "source": [
    "similarity[0].shape"
   ]
  },
  {
   "cell_type": "code",
   "execution_count": 106,
   "id": "ae32c2b6-a3ee-41c9-906d-6741f0033adb",
   "metadata": {},
   "outputs": [],
   "source": [
    "# similarity[1]"
   ]
  },
  {
   "cell_type": "code",
   "execution_count": 107,
   "id": "bb15868c-ad00-4b78-93df-bda7787c2bc1",
   "metadata": {
    "scrolled": true
   },
   "outputs": [],
   "source": [
    "# sorted(similarity[3],reverse=True)"
   ]
  },
  {
   "cell_type": "code",
   "execution_count": null,
   "id": "0759f295-09ae-45ec-ad18-1ea42bea47b7",
   "metadata": {},
   "outputs": [],
   "source": []
  },
  {
   "cell_type": "code",
   "execution_count": 96,
   "id": "ece82aa2-7db1-4eb0-9f58-6eb442447c0c",
   "metadata": {},
   "outputs": [
    {
     "data": {
      "text/plain": [
       "119"
      ]
     },
     "execution_count": 96,
     "metadata": {},
     "output_type": "execute_result"
    }
   ],
   "source": [
    "new_df[new_df['title']=='Batman Begins'].index[0]"
   ]
  },
  {
   "cell_type": "code",
   "execution_count": 85,
   "id": "491015d2-31e7-41fc-a383-4ed75ab9af7c",
   "metadata": {},
   "outputs": [],
   "source": [
    "# creating a function where the five similar movies are recommended"
   ]
  },
  {
   "cell_type": "code",
   "execution_count": 121,
   "id": "c5e2b2c6-82eb-4205-9348-b5c0e03828d6",
   "metadata": {},
   "outputs": [],
   "source": [
    "def recommend(movie):\n",
    "    movie_index = new_df[new_df['title']==movie].index[0]\n",
    "    distances = similarity[movie_index]\n",
    "    movies_list=sorted(list(enumerate(similarity[0])),reverse=True,key=lambda x:x[1])[1:5]\n",
    "    \n",
    "    for i in movies_list:\n",
    "        print(new_df.iloc[i[0]].title)\n",
    "    "
   ]
  },
  {
   "cell_type": "code",
   "execution_count": 120,
   "id": "c8ff89ac-dcff-470d-9235-bf7c4d2c4675",
   "metadata": {},
   "outputs": [
    {
     "name": "stdout",
     "output_type": "stream",
     "text": [
      "Star Trek Into Darkness\n",
      "47\n",
      "The Dark Knight\n",
      "65\n",
      "Aliens\n",
      "2409\n",
      "Lockout\n",
      "2204\n"
     ]
    }
   ],
   "source": [
    "recommend('Avatar')"
   ]
  },
  {
   "cell_type": "code",
   "execution_count": 122,
   "id": "3ee3ec75-2dd9-442e-8c1a-ebaed72c41ab",
   "metadata": {},
   "outputs": [
    {
     "data": {
      "text/plain": [
       "'Star Trek Into Darkness'"
      ]
     },
     "execution_count": 122,
     "metadata": {},
     "output_type": "execute_result"
    }
   ],
   "source": [
    "new_df.iloc[47].title"
   ]
  },
  {
   "cell_type": "code",
   "execution_count": 125,
   "id": "ffb4f786-d64d-4143-935e-b00679e83711",
   "metadata": {},
   "outputs": [],
   "source": [
    "import pickle"
   ]
  },
  {
   "cell_type": "code",
   "execution_count": null,
   "id": "44f53358-0233-4f2b-abe3-c87c1129bf0a",
   "metadata": {},
   "outputs": [],
   "source": []
  },
  {
   "cell_type": "code",
   "execution_count": 126,
   "id": "8e5178ea-9bf7-4a6d-9765-2d84341f47aa",
   "metadata": {},
   "outputs": [],
   "source": [
    "pickle.dump(new_df,open('movies.pkl','wb'))"
   ]
  },
  {
   "cell_type": "code",
   "execution_count": null,
   "id": "c6d368a8-5bf9-42db-a51f-911a0dd882c1",
   "metadata": {},
   "outputs": [],
   "source": []
  }
 ],
 "metadata": {
  "kernelspec": {
   "display_name": "Python 3 (ipykernel)",
   "language": "python",
   "name": "python3"
  },
  "language_info": {
   "codemirror_mode": {
    "name": "ipython",
    "version": 3
   },
   "file_extension": ".py",
   "mimetype": "text/x-python",
   "name": "python",
   "nbconvert_exporter": "python",
   "pygments_lexer": "ipython3",
   "version": "3.11.4"
  }
 },
 "nbformat": 4,
 "nbformat_minor": 5
}
